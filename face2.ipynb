{
 "cells": [
  {
   "cell_type": "code",
   "execution_count": 2,
   "id": "de2badc2",
   "metadata": {
    "ExecuteTime": {
     "end_time": "2024-05-28T13:10:05.715946Z",
     "start_time": "2024-05-28T13:10:04.304207Z"
    }
   },
   "outputs": [],
   "source": [
    "#coding=utf-8\n",
    "#人脸识别类 - 使用face_recognition模块\n",
    "import cv2\n",
    "import face_recognition\n",
    "import os\n",
    "\n"
   ]
  },
  {
   "cell_type": "code",
   "execution_count": 3,
   "id": "2bbd4cfc",
   "metadata": {
    "ExecuteTime": {
     "end_time": "2024-05-28T13:11:34.996744Z",
     "start_time": "2024-05-28T13:10:06.973828Z"
    }
   },
   "outputs": [
    {
     "name": "stdout",
     "output_type": "stream",
     "text": [
      "image/a.jpg\n",
      "image/b.jpg\n",
      "image/c.jpg\n",
      "image/d.jpg\n",
      "image/e (1).jpg\n",
      "image/e (2).jpg\n",
      "image/e (3).jpg\n",
      "image/e (4).jpg\n",
      "image/e (5).jpg\n"
     ]
    }
   ],
   "source": [
    "path = \"image\"  # 模型数据图片目录\n",
    "cap = cv2.VideoCapture(0)\n",
    "total_image_name = []\n",
    "total_face_encoding = []\n",
    "for fn in os.listdir(path):  #fn 表示的是文件名q\n",
    "    print(path + \"/\" + fn)\n",
    "    total_face_encoding.append(\n",
    "        face_recognition.face_encodings(\n",
    "            face_recognition.load_image_file(path + \"/\" + fn))[0])\n",
    "    fn = fn[:(len(fn) - 4)]  #截取图片名（这里应该把images文件中的图片名命名为为人物名）\n",
    "    total_image_name.append(fn)  #图片名字列表\n",
    "while (1):\n",
    "    ret, frame = cap.read()\n",
    "    # 发现在视频帧所有的脸和face_enqcodings\n",
    "    face_locations = face_recognition.face_locations(frame)\n",
    "    face_encodings = face_recognition.face_encodings(frame, face_locations)\n",
    "    # 在这个视频帧中循环遍历每个人脸\n",
    "    for (top, right, bottom, left), face_encoding in zip(\n",
    "            face_locations, face_encodings):\n",
    "        # 看看面部是否与已知人脸相匹配。\n",
    "        for i, v in enumerate(total_face_encoding):\n",
    "            match = face_recognition.compare_faces(\n",
    "                [v], face_encoding, tolerance=0.5)\n",
    "            name = \"Unknown\"\n",
    "            if match[0]:\n",
    "                name = total_image_name[i]\n",
    "                break\n",
    "        # 画出一个框，框住脸\n",
    "        cv2.rectangle(frame, (left, top), (right, bottom), (0, 0, 255), 2)\n",
    "        # 画出一个带名字的标签，放在框下\n",
    "        cv2.rectangle(frame, (left, bottom - 35), (right, bottom), (0, 0, 255),\n",
    "                      cv2.FILLED)\n",
    "        font = cv2.FONT_HERSHEY_DUPLEX\n",
    "        cv2.putText(frame, name, (left + 6, bottom - 6), font, 1.0,\n",
    "                    (255, 255, 255), 1)\n",
    "    # 显示结果图像\n",
    "    cv2.imshow('Video', frame)\n",
    "    if cv2.waitKey(1) & 0xFF == ord('q'):\n",
    "        break\n",
    "\n",
    "cap.release()\n",
    "cv2.destroyAllWindows()"
   ]
  },
  {
   "cell_type": "code",
   "execution_count": null,
   "id": "cfbe1f66",
   "metadata": {},
   "outputs": [],
   "source": []
  }
 ],
 "metadata": {
  "kernelspec": {
   "display_name": "Python 3 (ipykernel)",
   "language": "python",
   "name": "python3"
  },
  "language_info": {
   "codemirror_mode": {
    "name": "ipython",
    "version": 3
   },
   "file_extension": ".py",
   "mimetype": "text/x-python",
   "name": "python",
   "nbconvert_exporter": "python",
   "pygments_lexer": "ipython3",
   "version": "3.9.13"
  },
  "toc": {
   "base_numbering": 1,
   "nav_menu": {},
   "number_sections": true,
   "sideBar": true,
   "skip_h1_title": false,
   "title_cell": "Table of Contents",
   "title_sidebar": "Contents",
   "toc_cell": false,
   "toc_position": {},
   "toc_section_display": true,
   "toc_window_display": false
  },
  "varInspector": {
   "cols": {
    "lenName": 16,
    "lenType": 16,
    "lenVar": 40
   },
   "kernels_config": {
    "python": {
     "delete_cmd_postfix": "",
     "delete_cmd_prefix": "del ",
     "library": "var_list.py",
     "varRefreshCmd": "print(var_dic_list())"
    },
    "r": {
     "delete_cmd_postfix": ") ",
     "delete_cmd_prefix": "rm(",
     "library": "var_list.r",
     "varRefreshCmd": "cat(var_dic_list()) "
    }
   },
   "types_to_exclude": [
    "module",
    "function",
    "builtin_function_or_method",
    "instance",
    "_Feature"
   ],
   "window_display": false
  }
 },
 "nbformat": 4,
 "nbformat_minor": 5
}
